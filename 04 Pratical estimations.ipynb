{
 "cells": [
  {
   "cell_type": "markdown",
   "id": "dominican-leonard",
   "metadata": {},
   "source": [
    "2022-03-24 Ludovico Massaccesi"
   ]
  },
  {
   "cell_type": "markdown",
   "id": "imported-channels",
   "metadata": {},
   "source": [
    "# Robust estimators\n",
    "In practice we have to evaluate the variance of estimators on a distribution that we do not know completely: obviously we can not do this from theory.\n",
    "We might not even know what the space of possibilities is!\n",
    "\n",
    "_How can we evaluate the uncertainty of a location estimator, if we do not know the real distribution of the data?_"
   ]
  },
  {
   "cell_type": "markdown",
   "id": "joint-accent",
   "metadata": {},
   "source": [
    "## Bootstrap method\n",
    "_Take some data, and pretend the real distribution is exactly like that._\n",
    "\n",
    "This seems self-referential, but it can actually be proven to work (with theorems, not just with practical results).\n",
    "It is a very safe technique to use, in particular, for extracting the variance of estimators (even complicated estimators, not just location parameter estimators).\n",
    "\n",
    " - We take some samples $x_i,i=1,\\dots,N$ from real data.\n",
    " - We take the discrete distribution $p^*(x)=\\frac{1}{N}\\sum_i\\delta(x-x_i)$.\n",
    " - Whenever we need the real distribution $p$, we use $p^*$ instead as an approximation;\n",
    "    - e.g. we run our Monte Carlo, we extract data from $p^*$;\n",
    "    - this can be done using the _resampling with repetition_ method, i.e. we extract an integer $j$ in $[1,N]$ and take the sample $x_j$, which is very fast and easy to implement;\n",
    "    - allowing the repetition is extremely important, otherwise we would have always the same as the original sample, which would make our simulation pointless;\n",
    "    - the different number of copies of each event in each repetition is what generates the variability we need to evaluate our estimator's variance;\n",
    "    - this can also be done by drawing the number of copies of each $x_i$ from a Poisson distribution with mean $S/N$, where $S$ is the number of samples we want to draw (but now we will have $S$ examples _in average_, but the actual number of samples will fluctuate, which we may want in some cases, but not in others).\n",
    "    \n",
    "We can, of course, also bootstrap from an histogram."
   ]
  },
  {
   "cell_type": "markdown",
   "id": "adequate-quantum",
   "metadata": {},
   "source": [
    "## Bootstrap uncertainty\n",
    "_What is the error that I make by using the bootstrap approximation $p^*$ instead of $p$?_\n",
    "\n",
    "This would be a systematic uncertainty on my estimate of the variance of my estimator.\n",
    "\n",
    "The solution, surprisingly, is the _double bootstrap_, i.e. bootstrapping from bootstrapped samples.\n",
    "This might seem like a recusrive thing that may diverge, but it can actually be proven that the double bootstrap improves our estimate!\n",
    "\n",
    " - We take a data sample $x_i$.\n",
    " - We take $M$ samples $y_{i,j}$ by bootstrapping $x_i$.\n",
    " - We compute the variance from every $y_j$ set.\n",
    " - We compute the variance of the variance from the set of $M$ variances we obtained."
   ]
  },
  {
   "cell_type": "markdown",
   "id": "fifth-gibraltar",
   "metadata": {},
   "source": [
    "# Exercise\n",
    " - Generate a sample from one of the distributions from last time.\n",
    " - Choose a location estimator and calculate its distribution.\n",
    " - Estimate its variance with the bootstrap method.\n",
    " - Compare the previous results with the one obtained with the double-bootstrap method.\n",
    "\n",
    "Repeat for a couple of distributions/estimators at most."
   ]
  },
  {
   "cell_type": "code",
   "execution_count": null,
   "id": "unauthorized-castle",
   "metadata": {},
   "outputs": [],
   "source": []
  }
 ],
 "metadata": {
  "kernelspec": {
   "display_name": "Python 3 (ipykernel)",
   "language": "python",
   "name": "python3"
  },
  "language_info": {
   "codemirror_mode": {
    "name": "ipython",
    "version": 3
   },
   "file_extension": ".py",
   "mimetype": "text/x-python",
   "name": "python",
   "nbconvert_exporter": "python",
   "pygments_lexer": "ipython3",
   "version": "3.9.7"
  }
 },
 "nbformat": 4,
 "nbformat_minor": 5
}
