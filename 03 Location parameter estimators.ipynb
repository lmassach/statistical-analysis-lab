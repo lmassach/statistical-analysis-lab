{
 "cells": [
  {
   "cell_type": "markdown",
   "id": "beneficial-macro",
   "metadata": {},
   "source": [
    "2022-03-17"
   ]
  },
  {
   "cell_type": "markdown",
   "id": "understood-complex",
   "metadata": {},
   "source": [
    "# Report\n",
    "We **have to** collect the plots we made in our exercises in a PDF and upload it."
   ]
  },
  {
   "cell_type": "markdown",
   "id": "ordered-proof",
   "metadata": {},
   "source": [
    "# Estimating a location parameter\n",
    "It is a common occurrence to have $p(x;\\mu,\\vec\\nu)=f(x-\\mu,\\vec\\nu)$.\n",
    "In this case, $\\mu$ is called a location parameter (and can be multidimensional, depending on the variable $x$).\n",
    "Location estimators are often called _measures of central tendency_.\n",
    "\n",
    "Good location estimators are said to be _robust_: this means they yield small _systematic_ uncertainties.\n",
    "\n",
    "The most known location estimator is the sample mean $\\sum_i^N x_i/N$, which is the MLE for many common distributions (Gaussian, exponential, Poisson, etc).\n",
    "It is a consistent estimator of the distribution mean (when it exists), but it actually has issues in many practical applications (e.g. when long tails are present and only a few samples are available it becomes biased):\n",
    "\n",
    " - measuring $\\text dE/\\text dx$ of a particle through a detectors (the Landau distribution is _very_ asymmetric with infinite variance and undefined mean)\n",
    " - calibrating something with limited samples\n",
    " - finding an asymmetric peak over an unknown background\n",
    " - locating a point-like isotropic source with a planar detector (again, the Cauchy distribution has infinite variance and undefined mean)"
   ]
  },
  {
   "cell_type": "markdown",
   "id": "tracked-ratio",
   "metadata": {},
   "source": [
    "## The Cauchy distribution\n",
    "$$p(x;\\mu,\\Gamma)=\\frac{\\Gamma}{\\pi}\\frac{1}{\\Gamma^2+(x-\\mu)^2}$$\n",
    "We find it all of the time: even the _ratio of two gaussian variables_ is distributed like a Cauchy!\n",
    "It has all the classical \"heavy-tailed distribution\" issues:\n",
    "\n",
    " - long tails, **infinte variance** and, therefore, **undefined mean** (let me remark it: the expected value does not exists!);\n",
    " - it defies the central limit theorem: the sum of $N$ Cauchy variables is again a Cauchy, with the **same variance**; and\n",
    " - it also does not satisfy hypothesis of the law of large numbers."
   ]
  },
  {
   "cell_type": "markdown",
   "id": "centered-variance",
   "metadata": {},
   "source": [
    "## More general location estimators\n",
    "Minimization of the $L_n$ norm\n",
    "$$a(x)=a \\text{ so that } \\sqrt[n]{\\sum_i|x_i-a|^n} \\text{ is minimum}$$\n",
    "\n",
    " - If we take a smaller $n$ we weight farther measurements less, so it helps with heavy-tailed distributions.\n",
    " - If we take $n\\to\\infty$, we get the _sample midrange_ ($(x_{min}+x_{max})/2$).\n",
    " - If we take $n=2$ we get the usual _arithmetic mean_.\n",
    " - If we take $n=1$ we get the _sample median_ (the point $x$ with cumulant $F(x)=1/2$).\n",
    " - If we take $n\\to-\\infty$ we get the _sample mode_ (the point closest to its neighbours, that is, the point where the sample density is highest), which is an estimator of the distribution _mode_ (when it is defined and unique). It is completely insensitive to tails and asymmetries.\n",
    "    - $a_{-\\infty}$ is actually a rather unstable estimator of the distribution mode, there are better ones, which can be rather useful and are usually robust, althoug not always easy to compute.\n",
    "    - In binned mode we can use the highest bin of an histogram (here the hard part is deciding the width of the bins).\n",
    "    - We can take the mid-point of the range of width $w$ (fixed) that contains most of the measurements (here choosing $w$ is the hard part).\n",
    "    - In half-range mode (HRM) we recursively take $w$ as half of the previous value, reducing the dependency on the chosen (arbitrary) initial $w$.\n",
    "    - In half-sample mode (HSM) we recusrively take the shortest interval containing half of the samples.\n",
    "\n",
    "## The Hodges-Lehmann estimator\n",
    "It builds all possible pairs of data ($n(n-1)/2$), taking the arithmetic mean of each pair, and evaluates the median of the above.\n",
    "It is rather robust for symmetric distributions."
   ]
  },
  {
   "cell_type": "markdown",
   "id": "minimal-adrian",
   "metadata": {},
   "source": [
    "## Other ways to reduce sensitivity to tails\n",
    "One idea is the _truncated mean_: we compute the usual mean ($a_2$), but after removing the most extreme samples.\n",
    "Usually one truncate a fixed fraction $r$ of the samples (the $r/2$ lowest and $r/2$ highest).\n",
    "\n",
    "In the _Windsorized mean_ instead of removing the $r$ extreme values, we replace them with the remaining lowest/highest value.\n",
    "\n",
    "In both cases, the hard question is how to choose $r$."
   ]
  },
  {
   "cell_type": "markdown",
   "id": "heavy-biodiversity",
   "metadata": {},
   "source": [
    "# Exercises\n",
    "Study and compare the variance of the measures of central tendency (all of them) for\n",
    "\n",
    " - uniform distributions,\n",
    " - triangular distributions,\n",
    " - Gaussian distributions,\n",
    " - double-Gaussian (a Gaussian + a wider background Gaussian) distributions,\n",
    " - double-exponential distribution,\n",
    " - Cauchy distribution, and\n",
    " - (optional) Landau distribution (it's a little hard to generate).\n",
    "\n",
    "Also:\n",
    " - which method would we use for each of them, without knowing the resuts? and\n",
    " - if we did not know what distribution we are working with (as it happens with experimental distributions in the real world), what estimator would we choose that works (more or less) well with _all_ of them?\n",
    "   - Of course we are not looking for something that is optimal in some specific case.\n",
    "   - We may want to try a minimax method (optimizing the worst case)."
   ]
  },
  {
   "cell_type": "code",
   "execution_count": null,
   "id": "conservative-dollar",
   "metadata": {},
   "outputs": [],
   "source": []
  }
 ],
 "metadata": {
  "kernelspec": {
   "display_name": "Python 3 (ipykernel)",
   "language": "python",
   "name": "python3"
  },
  "language_info": {
   "codemirror_mode": {
    "name": "ipython",
    "version": 3
   },
   "file_extension": ".py",
   "mimetype": "text/x-python",
   "name": "python",
   "nbconvert_exporter": "python",
   "pygments_lexer": "ipython3",
   "version": "3.9.7"
  }
 },
 "nbformat": 4,
 "nbformat_minor": 5
}
