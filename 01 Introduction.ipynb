{
 "cells": [
  {
   "cell_type": "markdown",
   "id": "regulation-central",
   "metadata": {},
   "source": [
    "2022-03-10"
   ]
  },
  {
   "cell_type": "code",
   "execution_count": 6,
   "id": "cooperative-booth",
   "metadata": {},
   "outputs": [],
   "source": [
    "%matplotlib inline\n",
    "import numpy as np\n",
    "import matplotlib.pyplot as plt\n",
    "from scipy.optimize import curve_fit"
   ]
  },
  {
   "cell_type": "markdown",
   "id": "french-belgium",
   "metadata": {},
   "source": [
    "# Basic tests"
   ]
  },
  {
   "cell_type": "code",
   "execution_count": 4,
   "id": "offensive-cliff",
   "metadata": {},
   "outputs": [
    {
     "data": {
      "image/png": "[encoded data removed]",
      "text/plain": [
       "<Figure size 432x288 with 1 Axes>"
      ]
     },
     "metadata": {
      "needs_background": "light"
     },
     "output_type": "display_data"
    },
    {
     "name": "stdout",
     "output_type": "stream",
     "text": [
      "CPU times: user 256 ms, sys: 236 µs, total: 256 ms\n",
      "Wall time: 253 ms\n"
     ]
    }
   ],
   "source": [
    "%%time\n",
    "plt.hist(np.random.uniform(size=1000000), bins=100, range=[0,1])\n",
    "plt.show()"
   ]
  },
  {
   "cell_type": "markdown",
   "id": "smooth-praise",
   "metadata": {},
   "source": [
    "# Generating RNs from arbitrary distributions\n",
    "Assume distribution $p(x)$ defined on an interval $[a,b]$ ."
   ]
  },
  {
   "cell_type": "markdown",
   "id": "entertaining-musical",
   "metadata": {},
   "source": [
    "## Trivial method of acceptance-rejection\n",
    "1. Normalize $p(x)$ so it is always $\\le 1$ (must have $\\sup p(x) < \\infty$)\n",
    "2. Generate $N$ uniform values $x_i$ in $[a,b]$\n",
    "3. Evaluate $f(x_i)$\n",
    "5. Generate $N$ uniform values $r_i$ in $[0,1]$\n",
    "6. Return the $x_i$ for which $r_i<p(x_i)$, repeat until we get enough samples\n",
    "\n",
    "This can be very inefficient!"
   ]
  },
  {
   "cell_type": "markdown",
   "id": "joined-benefit",
   "metadata": {},
   "source": [
    "## Transformation method for continuous distributions\n",
    "$$p_y(y)=\\frac{p_x(x(y))}{\\left|{\\frac{\\partial y}{\\partial x}}\\right|_{x=x(y)}}$$\n",
    "If the derivative (or Jacobian if multidimensional) is monotonic, and we choose a uniform distribution $p_x(x)=1, x\\in[0,1]$, we get\n",
    "$$x(y)=\\int_{y_{min}}^y p_y(y')\\text d y'$$\n",
    "And then we can invert the function $x(y)$ (also numerically, using a look-up table and interpolation) and use $y(x)$ to generate RNs distributed like $p_y$ using a uniform RNG."
   ]
  },
  {
   "cell_type": "markdown",
   "id": "gorgeous-marks",
   "metadata": {},
   "source": [
    "## Transformation method for discrete distributions\n",
    "1. Take the cumulant $F(n)=\\sum_{i=n_{min}}^n P(i)$\n",
    "2. Generate $N$ numbers $r_i$ in $U[0,1]$\n",
    "3. Find the smallest $n$ such that $r_i<F(n)$, and return $n$\n",
    "\n",
    "It's the same procedure as before, but the \"discrete integral\" (sum) makes it all easiert."
   ]
  },
  {
   "cell_type": "markdown",
   "id": "unknown-account",
   "metadata": {},
   "source": [
    "## Convolution method for continuous distributions\n",
    "Some distributions are easy to write as $p(x_1+x_2)=p_1(x_1)\\otimes p_2(x_2)$.\n",
    "Example with a gaussian from uniform variables:\n",
    "1. Generate 12 uniform random numbers in $[0,1]$ (they have $\\sigma=1/\\sqrt 12$)\n",
    "2. Return the sum of the 12 numbers (the sum has $\\sigma=1$) minus 6 (so the mean is zero\n",
    "\n",
    "It's not too bad, and it's very fast."
   ]
  },
  {
   "cell_type": "code",
   "execution_count": 26,
   "id": "functional-cutting",
   "metadata": {},
   "outputs": [
    {
     "name": "stdout",
     "output_type": "stream",
     "text": [
      "norm        2.382e+04 +- 29.55     \n",
      "mu          -0.000351 +- 0.001021  \n",
      "sigma           1.006 +- 0.000758  \n",
      "chi2/NDF        269.5 /  97        \n"
     ]
    },
    {
     "data": {
      "image/png": "[encoded data removed]",
      "text/plain": [
       "<Figure size 432x288 with 1 Axes>"
      ]
     },
     "metadata": {
      "needs_background": "light"
     },
     "output_type": "display_data"
    },
    {
     "name": "stdout",
     "output_type": "stream",
     "text": [
      "CPU times: user 330 ms, sys: 12 ms, total: 342 ms\n",
      "Wall time: 340 ms\n"
     ]
    }
   ],
   "source": [
    "%%time\n",
    "u_samples = [np.random.uniform(size=1000000) for _ in range(12)]\n",
    "g_samples = sum(u_samples, np.zeros_like(u_samples[0])) - 6\n",
    "y, x, _ = plt.hist(g_samples, bins=100, range=[-3, 3])\n",
    "x = (x[1:] + x[:-1]) / 2\n",
    "sigma = np.sqrt(y)\n",
    "def g(x, norm, mu, sigma):\n",
    "    return norm * np.exp(-(x-mu)**2 / (2*sigma**2))\n",
    "popt, pcov = curve_fit(g, x, y, p0=[24e3, 0, 1], sigma=sigma, absolute_sigma=True)\n",
    "pstd = np.sqrt(pcov.diagonal())\n",
    "for name, value, std in zip([\"norm\", \"mu\", \"sigma\"], popt, pstd):\n",
    "    print(f\"{name:10s} {value:10.4g} +- {std:<10.4g}\")\n",
    "chi2 = np.sum(((y - g(x, *popt)) / sigma)**2)\n",
    "ndf = len(y) - len(popt)\n",
    "print(f\"chi2/NDF   {chi2:10.4g} /  {ndf:<10d}\")\n",
    "plt.plot(x, g(x, *popt), 'r-')\n",
    "plt.show()"
   ]
  },
  {
   "cell_type": "markdown",
   "id": "suspected-groove",
   "metadata": {},
   "source": [
    "## Markov-chain Monte Carlo (MCMC)\n",
    "Particularly useful in many dimension and with complex functions (addresses the shortcomings of the previous inefficient methods: dimensionality curse and function complexity).\n",
    "It does **not** need the $p(x)$ to be normalized (which can be very hard or impossible); this is particularly useful for Bayesian calculations, where the posterior usually has unknown/hard-to-compute normalization.\n",
    "\n",
    "### Metropolis-Hastings algorithm\n",
    "1. Pick a point $x_0$ (**any** point, can be non-random) in the distribution, can be multidimensional\n",
    "2. Generate (\"jump\" to) the next point $x'$ from a pre-selected PDF $q(x';x)$ (**any** PDF, as long as it is symmetric $q(x;x')=q(x';x)$)\n",
    "3. If $r<p(x')/p(x)$ return $x'$, otherwise keep going (this is similar to the accept-reject method)\n",
    "4. Iterate\n",
    "\n",
    "Drawback: nearby samples will be correlated (must make sure it does not matter)."
   ]
  },
  {
   "cell_type": "markdown",
   "id": "ultimate-right",
   "metadata": {},
   "source": [
    "## Calculating integrals with MC\n",
    "Generate random numbers $x_i$ and compute $f(x_i)$, then use\n",
    "$$\\frac{1}{N}\\sum_{i=1}^N f(x_i)\\to \\langle f\\rangle = \\frac{1}{V}\\int_V f(x)\\text d x$$\n",
    "This is _very_ effective for multidimensional integrals, much more than deterministic rules (even Simpson's rule performs badly in multidimensional cases).\n",
    "$$\\sigma_I=V\\frac{\\sigma_f}{\\sqrt N}$$\n",
    "While Simspon's rule (deterministic!) performs\n",
    "$$\\sigma_I\\propto N^{-4/D}$$\n",
    "where $D$ is the number of dimensions (yes, using a MC gets a $\\sigma$ that is _indepdendent_ on the number of dimensions!)."
   ]
  },
  {
   "cell_type": "markdown",
   "id": "secret-champagne",
   "metadata": {},
   "source": [
    "# Exercises\n",
    "Display a few distributions (try each method for at least one distribution):\n",
    "\n",
    " - exponential,\n",
    " - triangular,\n",
    " - gaussian,\n",
    " - Poisson,\n",
    " - binomial,\n",
    " - Cauchy, and\n",
    " - $p(x,y)\\propto xy^2+x$ in $[0,1]\\times[0,1]$.\n",
    "\n",
    "Determine the volume of a sphere in 13 dimensions (there is also the analytical formula to check the results)."
   ]
  },
  {
   "cell_type": "code",
   "execution_count": null,
   "id": "distributed-shipping",
   "metadata": {},
   "outputs": [],
   "source": []
  }
 ],
 "metadata": {
  "kernelspec": {
   "display_name": "Python 3 (ipykernel)",
   "language": "python",
   "name": "python3"
  },
  "language_info": {
   "codemirror_mode": {
    "name": "ipython",
    "version": 3
   },
   "file_extension": ".py",
   "mimetype": "text/x-python",
   "name": "python",
   "nbconvert_exporter": "python",
   "pygments_lexer": "ipython3",
   "version": "3.9.7"
  }
 },
 "nbformat": 4,
 "nbformat_minor": 5
}
